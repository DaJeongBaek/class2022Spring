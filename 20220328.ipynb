{
  "nbformat": 4,
  "nbformat_minor": 0,
  "metadata": {
    "colab": {
      "name": "20220328.ipynb",
      "provenance": [],
      "collapsed_sections": [],
      "authorship_tag": "ABX9TyOazZ86q5CET3zIWlVqHesz",
      "include_colab_link": true
    },
    "kernelspec": {
      "name": "python3",
      "display_name": "Python 3"
    },
    "language_info": {
      "name": "python"
    }
  },
  "cells": [
    {
      "cell_type": "markdown",
      "metadata": {
        "id": "view-in-github",
        "colab_type": "text"
      },
      "source": [
        "<a href=\"https://colab.research.google.com/github/DaJeongBaek/class2022Spring/blob/main/20220328.ipynb\" target=\"_parent\"><img src=\"https://colab.research.google.com/assets/colab-badge.svg\" alt=\"Open In Colab\"/></a>"
      ]
    },
    {
      "cell_type": "code",
      "source": [
        "!pip install gradio\n",
        "import gradio as gr\n",
        "import requests\n",
        "import pandas as pd"
      ],
      "metadata": {
        "id": "pMQwctZ0lI-m"
      },
      "execution_count": null,
      "outputs": []
    },
    {
      "cell_type": "code",
      "source": [
        "URL = ('https://api.odcloud.kr/api/15077586/v1/centers?page=1&perPage=10&returnType=json&serviceKey=0mE2FlvlbewfEWxFdR4zcnWSmYs5pMOCJy65BY35Wkn54RXKb43Rat0hZAwH7NVcZAgICGm9qbg6SAsyzVHdDQ%3D%3D')\n",
        "\n",
        "response = requests.get(URL)\n",
        "response"
      ],
      "metadata": {
        "id": "Zz75UyOu6bDW"
      },
      "execution_count": null,
      "outputs": []
    },
    {
      "cell_type": "code",
      "source": [
        "r = response.json()\n",
        "r"
      ],
      "metadata": {
        "id": "7IPuPmYZ6wMQ"
      },
      "execution_count": null,
      "outputs": []
    },
    {
      "cell_type": "code",
      "source": [
        "items = r['data']\n",
        "items\n",
        "\n",
        "centerName = [item['centerName'] for item in items]\n",
        "centerType = [item['centerType'] for item in items]\n",
        "createdAt = [item['createdAt'] for item in items]\n",
        "facilityName = [item['facilityName'] for item in items]\n",
        "lat = [item['lat'] for item in items]\n",
        "lng = [item['lng'] for item in items]\n",
        "org = [item['org'] for item in items]\n",
        "phoneNumber = [item['phoneNumber'] for item in items]\n",
        "sido = [item['sido'] for item in items]\n",
        "sigungu = [item['sigungu'] for item in items]\n",
        "updatedAt = [item['updatedAt'] for item in items]\n",
        "zipCode = [item['zipCode'] for item in items]\n",
        "\n",
        "centerName = pd.Series(centerName)\n",
        "centerType = pd.Series(centerType)\n",
        "createdAt = pd.Series(createdAt)\n",
        "facilityName = pd.Series(facilityName)\n",
        "lat = pd.Series(lat)\n",
        "lng = pd.Series(lng)\n",
        "org = pd.Series(org)\n",
        "phoneNumber = pd.Series(phoneNumber)\n",
        "sido = pd.Series(sido)\n",
        "sigungu = pd.Series(sigungu)\n",
        "updatedAt = pd.Series(updatedAt)\n",
        "zipCode = pd.Series(zipCode)\n",
        "\n",
        "df = pd.DataFrame({'건물명' : centerName, '건물유형' : centerType, '생성일시' : createdAt, '시설명' : facilityName, '위도' : lat, '경도' : lng, '기관' : org, '번호' : phoneNumber, '시도' : sido, '시군구' : sigungu, '업데이트일시' : updatedAt, '우편번호' : zipCode})"
      ],
      "metadata": {
        "id": "uS1u5_Sa7WF7"
      },
      "execution_count": 108,
      "outputs": []
    },
    {
      "cell_type": "code",
      "source": [
        "def test(info):\n",
        "  URL = ('https://api.odcloud.kr/api/15077586/v1/centers?'\n",
        "  'page=1'\n",
        "  '&perPage=10'\n",
        "  '&returnType=json'\n",
        "  '&='+info+  \n",
        "  '&serviceKey=0mE2FlvlbewfEWxFdR4zcnWSmYs5pMOCJy65BY35Wkn54RXKb43Rat0hZAwH7NVcZAgICGm9qbg6SAsyzVHdDQ%3D%3D')\n",
        "  response = requests.get(URL)\n",
        "  r = response.json()\n",
        "  items = r['data']\n",
        "\n",
        "  centerName = [item['centerName'] for item in items]\n",
        "  centerType = [item['centerType'] for item in items]\n",
        "  createdAt = [item['createdAt'] for item in items]\n",
        "  facilityName = [item['facilityName'] for item in items]\n",
        "  lat = [item['lat'] for item in items]\n",
        "  lng = [item['lng'] for item in items]\n",
        "  org = [item['org'] for item in items]\n",
        "  phoneNumber = [item['phoneNumber'] for item in items]\n",
        "  sido = [item['sido'] for item in items]\n",
        "  sigungu = [item['sigungu'] for item in items]\n",
        "  updatedAt = [item['updatedAt'] for item in items]\n",
        "  zipCode = [item['zipCode'] for item in items]\n",
        "\n",
        "  centerName = pd.Series(centerName)\n",
        "  centerType = pd.Series(centerType)\n",
        "  createdAt = pd.Series(createdAt)\n",
        "  facilityName = pd.Series(facilityName)\n",
        "  lat = pd.Series(lat)\n",
        "  lng = pd.Series(lng)\n",
        "  org = pd.Series(org)\n",
        "  phoneNumber = pd.Series(phoneNumber)\n",
        "  sido = pd.Series(sido)\n",
        "  sigungu = pd.Series(sigungu)\n",
        "  updatedAt = pd.Series(updatedAt)\n",
        "  zipCode = pd.Series(zipCode)\n",
        "\n",
        "  df = pd.DataFrame({'건물명' : centerName, '건물유형' : centerType, '생성일시' : createdAt, '시설명' : facilityName, '위도' : lat, '경도' : lng, '기관' : org, '번호' : phoneNumber, '시도' : sido, '시군구' : sigungu, '업데이트일시' : updatedAt, '우편번호' : zipCode})\n",
        "  return df"
      ],
      "metadata": {
        "id": "7WNUCSudAMdF"
      },
      "execution_count": 114,
      "outputs": []
    },
    {
      "cell_type": "code",
      "source": [
        "iface = gr.Interface(test, gr.inputs.Dropdown(['서울', '대구']), outputs=['dataframe'])\n",
        "iface.launch(debug=True)"
      ],
      "metadata": {
        "colab": {
          "base_uri": "https://localhost:8080/",
          "height": 613
        },
        "id": "Zu5ddQ6eB6xl",
        "outputId": "5e553a95-d122-41e3-e632-d41a15515507"
      },
      "execution_count": null,
      "outputs": [
        {
          "output_type": "stream",
          "name": "stdout",
          "text": [
            "Colab notebook detected. This cell will run indefinitely so that you can see errors and logs. To turn off, set debug=False in launch().\n",
            "Running on public URL: https://20966.gradio.app\n",
            "\n",
            "This share link expires in 72 hours. For free permanent hosting, check out Spaces (https://huggingface.co/spaces)\n"
          ]
        },
        {
          "output_type": "display_data",
          "data": {
            "text/plain": [
              "<IPython.lib.display.IFrame at 0x7fd7231421d0>"
            ],
            "text/html": [
              "\n",
              "        <iframe\n",
              "            width=\"900\"\n",
              "            height=\"500\"\n",
              "            src=\"https://20966.gradio.app\"\n",
              "            frameborder=\"0\"\n",
              "            allowfullscreen\n",
              "        ></iframe>\n",
              "        "
            ]
          },
          "metadata": {}
        }
      ]
    }
  ]
}