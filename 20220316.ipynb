{
  "nbformat": 4,
  "nbformat_minor": 0,
  "metadata": {
    "colab": {
      "name": "20220316.ipynb",
      "provenance": [],
      "authorship_tag": "ABX9TyOgH7OeX/zO7NPUSt0GAz05",
      "include_colab_link": true
    },
    "kernelspec": {
      "name": "python3",
      "display_name": "Python 3"
    },
    "language_info": {
      "name": "python"
    }
  },
  "cells": [
    {
      "cell_type": "markdown",
      "metadata": {
        "id": "view-in-github",
        "colab_type": "text"
      },
      "source": [
        "<a href=\"https://colab.research.google.com/github/DaJeongBaek/class2022Spring/blob/main/20220316.ipynb\" target=\"_parent\"><img src=\"https://colab.research.google.com/assets/colab-badge.svg\" alt=\"Open In Colab\"/></a>"
      ]
    },
    {
      "cell_type": "markdown",
      "source": [
        "**INTRODUCTION**\n",
        "\n",
        "- **변수** = variables\n",
        "- **문법** = syntax: if(조건문), for(반복문)\n",
        "- **함수** = function\n",
        "- **패키지**(라이브러리) = packages"
      ],
      "metadata": {
        "id": "tSdhFuVze8gV"
      }
    },
    {
      "cell_type": "markdown",
      "source": [
        "\n",
        "\n",
        "---\n",
        "\n"
      ],
      "metadata": {
        "id": "gNRUV5mhh7q1"
      }
    },
    {
      "cell_type": "markdown",
      "source": [
        "# 1. variables\n",
        "\n",
        "> **변수의 종류**\n",
        "- number: integer(정수), float(실수)\n",
        "- string\n",
        "- list[ ] ≒ tuple( )\n",
        "- dict\n",
        "\n",
        "+) list와 string은 indexing하는 방법이 같다\n",
        "\n",
        "+) tuple은 내부 변수를 바꾸지 못한다\n"
      ],
      "metadata": {
        "id": "tP6razzvh98i"
      }
    },
    {
      "cell_type": "markdown",
      "source": [
        "> **list와 string**\n",
        ">\n",
        "> +) len( )이라는 함수는 변수의 길이를 말해줌\n",
        ">\n",
        ">+) s.upper( )는 s라는 변수를 대문자화\n",
        ">\n",
        ">+) s.find( )는 S라는 변수 중 입력값이 나오는 것이 몇 번째인지 말해줌\n",
        ">\n",
        ">+) s.strip( )는 s라는 변수의 공백을 삭제\n",
        ">\n",
        ">+) s.split(' ')은 입력값을 중심으로 쪼개서 리스트를 만듦\n",
        ">\n",
        ">+) s.replace( )는 변수 내 특정 값을 입력값으로 바꿈\n",
        "\n"
      ],
      "metadata": {
        "id": "SMLBu5A3m9TJ"
      }
    },
    {
      "cell_type": "markdown",
      "source": [
        "\n",
        "\n",
        "---\n",
        "\n"
      ],
      "metadata": {
        "id": "VJYtRdLPuT0Y"
      }
    },
    {
      "cell_type": "markdown",
      "source": [
        "# 2. function\n",
        "\n",
        "> **함수**\n",
        "- '함수(입력) = 출력'의 형태\n",
        "- def 함수명 ( 입력변수1, 입력변수2 ) :\n",
        "  return\n",
        "\n"
      ],
      "metadata": {
        "id": "YpGZA0pTmglu"
      }
    },
    {
      "cell_type": "markdown",
      "source": [
        "\n",
        "\n",
        "---\n",
        "\n"
      ],
      "metadata": {
        "id": "8_X7Ox6guVgV"
      }
    },
    {
      "cell_type": "markdown",
      "source": [
        "# 3. syntax\n",
        "\n",
        ">- 반복문 for\n",
        "    - for i in a: a에서 i를 처음부터 하나씩 받아서 돌린다\n",
        "    - for i range( ): 해당 범위를 처음부터 받아서 돌린다\n",
        ">\n",
        ">\n",
        ">- 조건문 if\n",
        "    - a=0에서 '='은 단순 assign 기호\n",
        "    ( same 의미를 가지는 기호는 == )\n",
        "    ( Not same은 !=)\n",
        "    - else를 붙여 추가 조건을 만들 수 있다"
      ],
      "metadata": {
        "id": "ygdCvV5GrOhG"
      }
    },
    {
      "cell_type": "markdown",
      "source": [
        "\n",
        "\n",
        "---\n",
        "\n"
      ],
      "metadata": {
        "id": "Vu0sBU2duYbR"
      }
    },
    {
      "cell_type": "markdown",
      "source": [
        "# 4. packages\n",
        "\n",
        "> **설치 방법**\n",
        "- install: 멀리에서 창고로 가져다 두는 것\n",
        "- import: 가까이에서 바로 옆으로 가져오는 것\n",
        "- built-in: 원래 바로 옆에 있는 것"
      ],
      "metadata": {
        "id": "9dyTOaAmtr3M"
      }
    }
  ]
}